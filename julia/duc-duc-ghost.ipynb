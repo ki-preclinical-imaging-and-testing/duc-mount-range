{
 "cells": [
  {
   "cell_type": "markdown",
   "id": "32c43778",
   "metadata": {},
   "source": [
    "# Duc, duc, ghost\n",
    "\n",
    "This script scans the results of user directories to identify any that are currently out of date with our policy. These user folders are thus the data \"ghosts\". Once the ghosts are identified, I want to get rid of them to keep the workstations from becoming too spooky.\n",
    "\n",
    "This works in a few steps:\n",
    "1. Run shell script to list Users from nightly DUC database, currently located in `/home/patch/duc-mount-range/nightly.db`, using the `fish` command, \n",
    "\n",
    "    duc-list-sonic-users csv > /home/patch/Projects/sonic-user.dat\n",
    "\n",
    "2. Run the Julia script found here to pull, sort, and filter that `.csv` for the problem direcories.\n",
    "\n",
    "3. Do something with these results... currently could be done manually, but this will ideally include automation of alerts and deletions with a temporary backup stage that allows our users some flexibility with the changing policy, e.g. Automatic email to me, Virginia, and also the user whose data is on the machine, with notice of when the data will be \"deleted\". Actually, move those files to my workstation temporarily before deletion, and then delete fully on another 30-day schedule.  \n",
    "\n",
    "Note: Step (1) currently uses the fish terminal, but in making this I learned that fish commands aren't great for Julia because `fish` isn't exactly a proper shell in Unix, or at least in the way Julia accesses it. Probably for the best in the long-run even if fish is nice for me :). TLDR; Julia can't call my fish command on its own, so I have to do it prior and thus this can't be Julia-driven without jumping through a few more hoops."
   ]
  },
  {
   "cell_type": "code",
   "execution_count": 15,
   "id": "4a8049ec",
   "metadata": {},
   "outputs": [
    {
     "data": {
      "text/html": [
       "<div class=\"data-frame\"><p>88 rows × 4 columns</p><table class=\"data-frame\"><thead><tr><th></th><th>LastMod</th><th>Size</th><th>Path</th><th>User</th></tr><tr><th></th><th title=\"Date\">Date</th><th title=\"Int64\">Int64</th><th title=\"String\">String</th><th title=\"String15\">String15</th></tr></thead><tbody><tr><th>1</th><td>2022-04-06</td><td>89829916672</td><td>/mnt/sonic/C:/Users/wfp2</td><td>wfp2</td></tr><tr><th>2</th><td>2022-04-06</td><td>74799718400</td><td>/mnt/sonic/C:/Users/pyousef</td><td>pyousef</td></tr><tr><th>3</th><td>2022-04-06</td><td>14233133056</td><td>/mnt/sonic/C:/Users/lmeier</td><td>lmeier</td></tr><tr><th>4</th><td>2022-04-06</td><td>14188036096</td><td>/mnt/sonic/C:/Users/jfroese</td><td>jfroese</td></tr><tr><th>5</th><td>2022-08-30</td><td>12817334272</td><td>/mnt/sonic/C:/Users/pema</td><td>pema</td></tr><tr><th>6</th><td>2022-04-06</td><td>9094795264</td><td>/mnt/sonic/C:/Users/jcoffey</td><td>jcoffey</td></tr><tr><th>7</th><td>2022-08-15</td><td>9063813120</td><td>/mnt/sonic/C:/Users/kulstad</td><td>kulstad</td></tr><tr><th>8</th><td>2022-03-31</td><td>8589856768</td><td>/mnt/sonic/C:/Users/gregoryt</td><td>gregoryt</td></tr><tr><th>9</th><td>2022-04-06</td><td>8414404608</td><td>/mnt/sonic/C:/Users/wwhyte</td><td>wwhyte</td></tr><tr><th>10</th><td>2022-03-17</td><td>7985123328</td><td>/mnt/sonic/C:/Users/patch</td><td>patch</td></tr><tr><th>11</th><td>2022-08-30</td><td>3104161792</td><td>/mnt/sonic/C:/Users/ffreeman</td><td>ffreeman</td></tr><tr><th>12</th><td>2022-04-06</td><td>2137219072</td><td>/mnt/sonic/C:/Users/krajeski</td><td>krajeski</td></tr><tr><th>13</th><td>2022-04-06</td><td>1904214016</td><td>/mnt/sonic/C:/Users/xinlimit</td><td>xinlimit</td></tr><tr><th>14</th><td>2022-03-30</td><td>1565470720</td><td>/mnt/sonic/C:/Users/vspan</td><td>vspan</td></tr><tr><th>15</th><td>2022-04-06</td><td>1120661504</td><td>/mnt/sonic/C:/Users/hhmak</td><td>hhmak</td></tr><tr><th>16</th><td>2022-04-06</td><td>866639872</td><td>/mnt/sonic/C:/Users/apuszyns</td><td>apuszyns</td></tr><tr><th>17</th><td>2022-02-25</td><td>770052096</td><td>/mnt/sonic/C:/Users/gnwhite</td><td>gnwhite</td></tr><tr><th>18</th><td>2022-04-06</td><td>650625024</td><td>/mnt/sonic/C:/Users/kyammine</td><td>kyammine</td></tr><tr><th>19</th><td>2022-03-29</td><td>579321856</td><td>/mnt/sonic/C:/Users/jwyckoff</td><td>jwyckoff</td></tr><tr><th>20</th><td>2022-04-06</td><td>505782272</td><td>/mnt/sonic/C:/Users/pdosta</td><td>pdosta</td></tr><tr><th>21</th><td>2022-03-02</td><td>493629440</td><td>/mnt/sonic/C:/Users/nhenning</td><td>nhenning</td></tr><tr><th>22</th><td>2022-04-06</td><td>355684352</td><td>/mnt/sonic/C:/Users/xiegzh</td><td>xiegzh</td></tr><tr><th>23</th><td>2022-04-06</td><td>317804544</td><td>/mnt/sonic/C:/Users/mariakar</td><td>mariakar</td></tr><tr><th>24</th><td>2022-04-06</td><td>266162176</td><td>/mnt/sonic/C:/Users/vanninim</td><td>vanninim</td></tr><tr><th>25</th><td>2022-04-06</td><td>235286528</td><td>/mnt/sonic/C:/Users/medavis</td><td>medavis</td></tr><tr><th>26</th><td>2022-04-06</td><td>216481792</td><td>/mnt/sonic/C:/Users/xueyang</td><td>xueyang</td></tr><tr><th>27</th><td>2022-04-06</td><td>204320768</td><td>/mnt/sonic/C:/Users/padillal</td><td>padillal</td></tr><tr><th>28</th><td>2022-04-06</td><td>156712960</td><td>/mnt/sonic/C:/Users/cbhattac</td><td>cbhattac</td></tr><tr><th>29</th><td>2022-04-06</td><td>147247104</td><td>/mnt/sonic/C:/Users/ppang</td><td>ppang</td></tr><tr><th>30</th><td>2022-04-06</td><td>143298560</td><td>/mnt/sonic/C:/Users/klabbott</td><td>klabbott</td></tr><tr><th>&vellip;</th><td>&vellip;</td><td>&vellip;</td><td>&vellip;</td><td>&vellip;</td></tr></tbody></table></div>"
      ],
      "text/latex": [
       "\\begin{tabular}{r|cccc}\n",
       "\t& LastMod & Size & Path & User\\\\\n",
       "\t\\hline\n",
       "\t& Date & Int64 & String & String15\\\\\n",
       "\t\\hline\n",
       "\t1 & 2022-04-06 & 89829916672 & /mnt/sonic/C:/Users/wfp2 & wfp2 \\\\\n",
       "\t2 & 2022-04-06 & 74799718400 & /mnt/sonic/C:/Users/pyousef & pyousef \\\\\n",
       "\t3 & 2022-04-06 & 14233133056 & /mnt/sonic/C:/Users/lmeier & lmeier \\\\\n",
       "\t4 & 2022-04-06 & 14188036096 & /mnt/sonic/C:/Users/jfroese & jfroese \\\\\n",
       "\t5 & 2022-08-30 & 12817334272 & /mnt/sonic/C:/Users/pema & pema \\\\\n",
       "\t6 & 2022-04-06 & 9094795264 & /mnt/sonic/C:/Users/jcoffey & jcoffey \\\\\n",
       "\t7 & 2022-08-15 & 9063813120 & /mnt/sonic/C:/Users/kulstad & kulstad \\\\\n",
       "\t8 & 2022-03-31 & 8589856768 & /mnt/sonic/C:/Users/gregoryt & gregoryt \\\\\n",
       "\t9 & 2022-04-06 & 8414404608 & /mnt/sonic/C:/Users/wwhyte & wwhyte \\\\\n",
       "\t10 & 2022-03-17 & 7985123328 & /mnt/sonic/C:/Users/patch & patch \\\\\n",
       "\t11 & 2022-08-30 & 3104161792 & /mnt/sonic/C:/Users/ffreeman & ffreeman \\\\\n",
       "\t12 & 2022-04-06 & 2137219072 & /mnt/sonic/C:/Users/krajeski & krajeski \\\\\n",
       "\t13 & 2022-04-06 & 1904214016 & /mnt/sonic/C:/Users/xinlimit & xinlimit \\\\\n",
       "\t14 & 2022-03-30 & 1565470720 & /mnt/sonic/C:/Users/vspan & vspan \\\\\n",
       "\t15 & 2022-04-06 & 1120661504 & /mnt/sonic/C:/Users/hhmak & hhmak \\\\\n",
       "\t16 & 2022-04-06 & 866639872 & /mnt/sonic/C:/Users/apuszyns & apuszyns \\\\\n",
       "\t17 & 2022-02-25 & 770052096 & /mnt/sonic/C:/Users/gnwhite & gnwhite \\\\\n",
       "\t18 & 2022-04-06 & 650625024 & /mnt/sonic/C:/Users/kyammine & kyammine \\\\\n",
       "\t19 & 2022-03-29 & 579321856 & /mnt/sonic/C:/Users/jwyckoff & jwyckoff \\\\\n",
       "\t20 & 2022-04-06 & 505782272 & /mnt/sonic/C:/Users/pdosta & pdosta \\\\\n",
       "\t21 & 2022-03-02 & 493629440 & /mnt/sonic/C:/Users/nhenning & nhenning \\\\\n",
       "\t22 & 2022-04-06 & 355684352 & /mnt/sonic/C:/Users/xiegzh & xiegzh \\\\\n",
       "\t23 & 2022-04-06 & 317804544 & /mnt/sonic/C:/Users/mariakar & mariakar \\\\\n",
       "\t24 & 2022-04-06 & 266162176 & /mnt/sonic/C:/Users/vanninim & vanninim \\\\\n",
       "\t25 & 2022-04-06 & 235286528 & /mnt/sonic/C:/Users/medavis & medavis \\\\\n",
       "\t26 & 2022-04-06 & 216481792 & /mnt/sonic/C:/Users/xueyang & xueyang \\\\\n",
       "\t27 & 2022-04-06 & 204320768 & /mnt/sonic/C:/Users/padillal & padillal \\\\\n",
       "\t28 & 2022-04-06 & 156712960 & /mnt/sonic/C:/Users/cbhattac & cbhattac \\\\\n",
       "\t29 & 2022-04-06 & 147247104 & /mnt/sonic/C:/Users/ppang & ppang \\\\\n",
       "\t30 & 2022-04-06 & 143298560 & /mnt/sonic/C:/Users/klabbott & klabbott \\\\\n",
       "\t$\\dots$ & $\\dots$ & $\\dots$ & $\\dots$ & $\\dots$ \\\\\n",
       "\\end{tabular}\n"
      ],
      "text/plain": [
       "\u001b[1m88×4 DataFrame\u001b[0m\n",
       "\u001b[1m Row \u001b[0m│\u001b[1m LastMod    \u001b[0m\u001b[1m Size        \u001b[0m\u001b[1m Path                         \u001b[0m\u001b[1m User     \u001b[0m\n",
       "\u001b[1m     \u001b[0m│\u001b[90m Date       \u001b[0m\u001b[90m Int64       \u001b[0m\u001b[90m String                       \u001b[0m\u001b[90m String15 \u001b[0m\n",
       "─────┼─────────────────────────────────────────────────────────────────\n",
       "   1 │ 2022-04-06  89829916672  /mnt/sonic/C:/Users/wfp2      wfp2\n",
       "   2 │ 2022-04-06  74799718400  /mnt/sonic/C:/Users/pyousef   pyousef\n",
       "   3 │ 2022-04-06  14233133056  /mnt/sonic/C:/Users/lmeier    lmeier\n",
       "   4 │ 2022-04-06  14188036096  /mnt/sonic/C:/Users/jfroese   jfroese\n",
       "   5 │ 2022-08-30  12817334272  /mnt/sonic/C:/Users/pema      pema\n",
       "   6 │ 2022-04-06   9094795264  /mnt/sonic/C:/Users/jcoffey   jcoffey\n",
       "   7 │ 2022-08-15   9063813120  /mnt/sonic/C:/Users/kulstad   kulstad\n",
       "   8 │ 2022-03-31   8589856768  /mnt/sonic/C:/Users/gregoryt  gregoryt\n",
       "   9 │ 2022-04-06   8414404608  /mnt/sonic/C:/Users/wwhyte    wwhyte\n",
       "  10 │ 2022-03-17   7985123328  /mnt/sonic/C:/Users/patch     patch\n",
       "  11 │ 2022-08-30   3104161792  /mnt/sonic/C:/Users/ffreeman  ffreeman\n",
       "  ⋮  │     ⋮            ⋮                    ⋮                   ⋮\n",
       "  79 │ 2022-04-06      3153920  /mnt/sonic/C:/Users/yli2019   yli2019\n",
       "  80 │ 2022-04-06      3125248  /mnt/sonic/C:/Users/jingzhi   jingzhi\n",
       "  81 │ 2022-04-06      3112960  /mnt/sonic/C:/Users/nmatheya  nmatheya\n",
       "  82 │ 2022-04-06      3051520  /mnt/sonic/C:/Users/qzhong    qzhong\n",
       "  83 │ 2022-04-29      2981888  /mnt/sonic/C:/Users/jrkuhn    jrkuhn\n",
       "  84 │ 2022-08-10      2977792  /mnt/sonic/C:/Users/joolih    joolih\n",
       "  85 │ 2022-04-06      2854912  /mnt/sonic/C:/Users/elbadawy  elbadawy\n",
       "  86 │ 2022-04-13      2830336  /mnt/sonic/C:/Users/grisselc  grisselc\n",
       "  87 │ 2022-04-06      2584576  /mnt/sonic/C:/Users/shotoyo   shotoyo\n",
       "  88 │ 2022-07-27      2560000  /mnt/sonic/C:/Users/tforster  tforster\n",
       "\u001b[36m                                                        67 rows omitted\u001b[0m"
      ]
     },
     "execution_count": 15,
     "metadata": {},
     "output_type": "execute_result"
    }
   ],
   "source": [
    "using CSV\n",
    "using DataFrames\n",
    "using Dates\n",
    "\n",
    "df = DataFrame(CSV.File(\"sonic-user.dat\"))\n",
    "dff = filter(row -> \n",
    "    !(row.User == \"AIPTadmin\"\n",
    "        || row.User == \"Default\" \n",
    "        || row.User == \"Public\" \n",
    "        || row.User == \"Default User\"),  \n",
    "    df)\n",
    "sort(dff)\n",
    "first_of_last_month = firstdayofmonth(today() - Month(1))\n",
    "ghost = dff[(dff.LastMod .< first_of_last_month), :]\n",
    "sort!(ghost, [:Size], rev=true)"
   ]
  },
  {
   "cell_type": "markdown",
   "id": "e15a110d",
   "metadata": {},
   "source": [
    "## Work to do...\n",
    "\n",
    "So out of the 95 users on the machine (including the defaults and admin accounts), we have 88 folders that do not meet the criteria to keep, and this is mostly last touched over last year.\n",
    "\n",
    "The next steps will involve removing these, and **AUTOMATION WILL HELP A LOT!!!**"
   ]
  },
  {
   "cell_type": "code",
   "execution_count": null,
   "id": "711db15f",
   "metadata": {},
   "outputs": [],
   "source": []
  }
 ],
 "metadata": {
  "kernelspec": {
   "display_name": "Julia 1.6.7",
   "language": "julia",
   "name": "julia-1.6"
  },
  "language_info": {
   "file_extension": ".jl",
   "mimetype": "application/julia",
   "name": "julia",
   "version": "1.6.7"
  }
 },
 "nbformat": 4,
 "nbformat_minor": 5
}
